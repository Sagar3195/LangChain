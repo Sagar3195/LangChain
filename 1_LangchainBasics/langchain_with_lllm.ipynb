{
 "cells": [
  {
   "cell_type": "code",
   "execution_count": 3,
   "id": "b260552e",
   "metadata": {},
   "outputs": [],
   "source": [
    "#Importing required libraries \n",
    "from langchain_groq import ChatGroq\n",
    "from langchain_core.messages import HumanMessage, SystemMessage \n",
    "from dotenv import load_dotenv \n",
    "import os"
   ]
  },
  {
   "cell_type": "code",
   "execution_count": 2,
   "id": "80c8fb93",
   "metadata": {},
   "outputs": [],
   "source": [
    "#Load API key from '.env' file \n",
    "load_dotenv()\n",
    "os.environ[\"GROQ_API_KEY\"] = os.getenv(\"GROQ_API_KEY\")"
   ]
  },
  {
   "cell_type": "markdown",
   "id": "4e3c7633",
   "metadata": {},
   "source": [
    "### Simple LLM Calling with Streaming"
   ]
  },
  {
   "cell_type": "code",
   "execution_count": 5,
   "id": "044f52fb",
   "metadata": {},
   "outputs": [],
   "source": [
    "#Initialize the LLM model \n",
    "llm = ChatGroq(model = \"meta-llama/llama-4-maverick-17b-128e-instruct\")"
   ]
  },
  {
   "cell_type": "code",
   "execution_count": 6,
   "id": "f34ea9f5",
   "metadata": {},
   "outputs": [
    {
     "data": {
      "text/plain": [
       "ChatGroq(client=<groq.resources.chat.completions.Completions object at 0x000002017517F770>, async_client=<groq.resources.chat.completions.AsyncCompletions object at 0x00000201752E41A0>, model_name='meta-llama/llama-4-maverick-17b-128e-instruct', model_kwargs={}, groq_api_key=SecretStr('**********'))"
      ]
     },
     "execution_count": 6,
     "metadata": {},
     "output_type": "execute_result"
    }
   ],
   "source": [
    "llm"
   ]
  },
  {
   "cell_type": "code",
   "execution_count": 7,
   "id": "221a0472",
   "metadata": {},
   "outputs": [],
   "source": [
    "#Create meessages \n",
    "messages = [\n",
    "    SystemMessage(\"You are a helpful talented AI assistant\"),\n",
    "    HumanMessage(\"What are the top 2 beneifts of Quantum Computing?\")\n",
    "]"
   ]
  },
  {
   "cell_type": "code",
   "execution_count": 8,
   "id": "2c4a227e",
   "metadata": {},
   "outputs": [
    {
     "name": "stdout",
     "output_type": "stream",
     "text": [
      "content='Quantum Computing is a revolutionary technology that has the potential to transform various fields by solving complex problems that are currently unsolvable or require an unfeasible amount of time for classical computers. The top 2 benefits of Quantum Computing are:\\n\\n1. **Solving Complex Optimization Problems**: Quantum computers can efficiently solve complex optimization problems that are difficult or impossible for classical computers to solve. This is because quantum computers can explore an exponentially large solution space simultaneously, thanks to the principles of superposition and entanglement. This capability can lead to breakthroughs in fields such as logistics, finance, and energy management, where complex optimization problems are common.\\n\\n2. **Simulating Complex Quantum Systems**: Quantum computers can simulate the behavior of quantum systems more accurately and efficiently than classical computers. This is crucial for advancing fields like chemistry and materials science, where understanding the behavior of molecules and materials at the quantum level is essential. By simulating these systems accurately, quantum computers can help in the discovery of new materials, more efficient chemical reactions, and potentially lead to breakthroughs in drug discovery and development.\\n\\nThese benefits highlight the potential of quantum computing to drive significant advancements in various scientific and industrial fields by tackling problems that are currently beyond our reach.' additional_kwargs={} response_metadata={'token_usage': {'completion_tokens': 238, 'prompt_tokens': 33, 'total_tokens': 271, 'completion_time': 0.344441302, 'prompt_time': 0.000876312, 'queue_time': 0.047684965, 'total_time': 0.345317614}, 'model_name': 'meta-llama/llama-4-maverick-17b-128e-instruct', 'system_fingerprint': 'fp_c527aa4474', 'service_tier': 'on_demand', 'finish_reason': 'stop', 'logprobs': None} id='run--0af32657-00df-41a7-8b0d-90b8d0c91551-0' usage_metadata={'input_tokens': 33, 'output_tokens': 238, 'total_tokens': 271}\n"
     ]
    }
   ],
   "source": [
    "#Invoke the model \n",
    "response = llm.invoke(messages)\n",
    "print(response)"
   ]
  },
  {
   "cell_type": "code",
   "execution_count": 9,
   "id": "b1d98439",
   "metadata": {},
   "outputs": [
    {
     "name": "stdout",
     "output_type": "stream",
     "text": [
      "Quantum Computing is a revolutionary technology that has the potential to transform various fields by solving complex problems that are currently unsolvable or require an unfeasible amount of time for classical computers. The top 2 benefits of Quantum Computing are:\n",
      "\n",
      "1. **Solving Complex Optimization Problems**: Quantum computers can efficiently solve complex optimization problems that are difficult or impossible for classical computers to solve. This is because quantum computers can explore an exponentially large solution space simultaneously, thanks to the principles of superposition and entanglement. This capability can lead to breakthroughs in fields such as logistics, finance, and energy management, where complex optimization problems are common.\n",
      "\n",
      "2. **Simulating Complex Quantum Systems**: Quantum computers can simulate the behavior of quantum systems more accurately and efficiently than classical computers. This is crucial for advancing fields like chemistry and materials science, where understanding the behavior of molecules and materials at the quantum level is essential. By simulating these systems accurately, quantum computers can help in the discovery of new materials, more efficient chemical reactions, and potentially lead to breakthroughs in drug discovery and development.\n",
      "\n",
      "These benefits highlight the potential of quantum computing to drive significant advancements in various scientific and industrial fields by tackling problems that are currently beyond our reach.\n"
     ]
    }
   ],
   "source": [
    "print(response.content)"
   ]
  },
  {
   "cell_type": "code",
   "execution_count": 12,
   "id": "1a773b00",
   "metadata": {},
   "outputs": [
    {
     "data": {
      "text/plain": [
       "AIMessage(content=\"While the development and deployment of Artificial General Intelligence (AGI) come with significant challenges and uncertainties, the potential benefits are substantial. Here are three of the top benefits that AGI could bring, assuming it is developed and used responsibly:\\n\\n1. **Solving Complex Problems**: AGI could potentially solve some of humanity's most complex and pressing problems, such as climate change, disease diagnosis and treatment, and sustainable resource management. With its ability to understand, learn, and apply knowledge across a wide range of tasks, AGI could analyze vast amounts of data, identify patterns, and develop solutions that might elude human experts. For example, AGI could help in modeling climate change more accurately, predicting the effects of different interventions, and optimizing strategies for mitigation and adaptation.\\n\\n2. **Enhancing Productivity and Efficiency**: AGI could revolutionize productivity by automating not just repetitive or mundane tasks, but also complex decision-making processes. This could lead to significant advancements in various industries, including healthcare, finance, education, and manufacturing. By taking over tasks that require intelligence, creativity, and problem-solving, AGI could free humans to focus on higher-level creative endeavors, strategic planning, and interpersonal activities that require empathy and human insight.\\n\\n3. **Advancing Scientific Discovery and Exploration**: AGI could accelerate the pace of scientific discovery by analyzing large datasets, simulating experiments, and generating hypotheses at a scale and speed beyond human capability. This could lead to breakthroughs in various fields of science and technology, such as medicine, materials science, and astrophysics. For instance, AGI could help analyze data from space missions, identify new celestial bodies, and predict the properties of newly discovered materials, thereby advancing our understanding of the universe and improving life on Earth.\\n\\nIt's crucial to note that realizing these benefits depends on the development of AGI that is not only powerful but also aligned with human values and safety standards. Ensuring that AGI is developed and used responsibly is a significant challenge that the global community is grappling with.\", additional_kwargs={}, response_metadata={'token_usage': {'completion_tokens': 393, 'prompt_tokens': 18, 'total_tokens': 411, 'completion_time': 0.861943538, 'prompt_time': 0.000452171, 'queue_time': 0.047545828, 'total_time': 0.862395709}, 'model_name': 'meta-llama/llama-4-maverick-17b-128e-instruct', 'system_fingerprint': 'fp_c527aa4474', 'service_tier': 'on_demand', 'finish_reason': 'stop', 'logprobs': None}, id='run--8f115911-9f44-4f41-a33e-80368d6662ca-0', usage_metadata={'input_tokens': 18, 'output_tokens': 393, 'total_tokens': 411})"
      ]
     },
     "execution_count": 12,
     "metadata": {},
     "output_type": "execute_result"
    }
   ],
   "source": [
    "llm.invoke([HumanMessage(\"What are top 3 benefits of AGI?\")])"
   ]
  },
  {
   "cell_type": "code",
   "execution_count": 13,
   "id": "4cf98b43",
   "metadata": {},
   "outputs": [
    {
     "name": "stdout",
     "output_type": "stream",
     "text": [
      "Quantum Computing has several potential benefits. The top 2 benefits are:\n",
      "\n",
      "1. **Faster Complex Problem-Solving**: Quantum computing can solve certain complex problems much faster than classical computers. This is because quantum computers can process a vast number of possibilities simultaneously, thanks to the principles of superposition and entanglement. This can lead to breakthroughs in fields like medicine, finance, and climate modeling, where complex simulations and optimizations are required.\n",
      "\n",
      "2. **Simulation and Optimization of Complex Systems**: Quantum computers can simulate complex quantum systems, which can lead to discoveries in fields like chemistry and materials science. They can also be used to optimize complex systems, such as logistics and supply chains, leading to more efficient and cost-effective solutions.\n",
      "\n",
      "These benefits have the potential to drive significant advancements in various fields and industries, and are being explored by researchers and companies around the world."
     ]
    }
   ],
   "source": [
    "#Streaming \n",
    "for chunk in llm.stream(messages):\n",
    "    print(chunk.content, end = \"\", flush= True)"
   ]
  },
  {
   "cell_type": "code",
   "execution_count": null,
   "id": "a85fcd79",
   "metadata": {},
   "outputs": [],
   "source": []
  },
  {
   "cell_type": "markdown",
   "id": "8c16fc21",
   "metadata": {},
   "source": [
    "### Dynamic Prompt Templates"
   ]
  },
  {
   "cell_type": "code",
   "execution_count": 15,
   "id": "c92c2b41",
   "metadata": {},
   "outputs": [],
   "source": [
    "from langchain_core.prompts import ChatPromptTemplate \n",
    "\n",
    "#Create Translation App \n",
    "translation_template = ChatPromptTemplate.from_messages(\n",
    "    [\n",
    "        (\"system\", \"You are a professional translator.Translate the follow text {text} from {source_language} to {target_language}. MAintain the tone and style\"),\n",
    "        (\"user\", \"{text}\")\n",
    "    ]\n",
    "\n",
    ")"
   ]
  },
  {
   "cell_type": "code",
   "execution_count": 16,
   "id": "505a055f",
   "metadata": {},
   "outputs": [],
   "source": [
    "prompt =  translation_template.invoke(\n",
    "    {\n",
    "        \"source_language\": \"English\",\n",
    "        \"target_language\": \"Germany\",\n",
    "        \"text\": \"Langchain makes building AI application incredibly easy!\"\n",
    "    }\n",
    ")"
   ]
  },
  {
   "cell_type": "code",
   "execution_count": 17,
   "id": "36905b4a",
   "metadata": {},
   "outputs": [
    {
     "data": {
      "text/plain": [
       "ChatPromptValue(messages=[SystemMessage(content='You are a professional translator.Translate the follow text Langchain makes building AI application incredibly easy! from English to Germany. MAintain the tone and style', additional_kwargs={}, response_metadata={}), HumanMessage(content='Langchain makes building AI application incredibly easy!', additional_kwargs={}, response_metadata={})])"
      ]
     },
     "execution_count": 17,
     "metadata": {},
     "output_type": "execute_result"
    }
   ],
   "source": [
    "prompt"
   ]
  },
  {
   "cell_type": "code",
   "execution_count": 19,
   "id": "36c81941",
   "metadata": {},
   "outputs": [
    {
     "name": "stdout",
     "output_type": "stream",
     "text": [
      "Langchain macht die Entwicklung von KI-Anwendungen unglaublich einfach!\n"
     ]
    }
   ],
   "source": [
    "response1 = llm.invoke(prompt)\n",
    "print(response1.content)"
   ]
  },
  {
   "cell_type": "code",
   "execution_count": null,
   "id": "6096f7ea",
   "metadata": {},
   "outputs": [],
   "source": []
  },
  {
   "cell_type": "markdown",
   "id": "9eaf8fd3",
   "metadata": {},
   "source": [
    "### Building Chain"
   ]
  },
  {
   "cell_type": "code",
   "execution_count": 20,
   "id": "683f4f59",
   "metadata": {},
   "outputs": [],
   "source": [
    "from langchain_core.prompts import ChatPromptTemplate \n",
    "from langchain_core.runnables import RunnablePassthrough, RunnableLambda \n",
    "from langchain_core.output_parsers import StrOutputParser \n",
    "\n",
    "#Create a cmplex chain \n",
    "def create_story_chain():\n",
    "    #Template for story generation \n",
    "    story_prompt = ChatPromptTemplate.from_messages([\n",
    "        (\"system\", \"You are a creative storyteller. Write a short, engaging story based on the given theme.\"),\n",
    "        (\"user\", \"Theme: {theme}\\nMain character: {character}\\nSetting: {setting}\")\n",
    "    ])\n",
    "\n",
    "    #Template for story analysis \n",
    "    analysis_prompt= ChatPromptTemplate.from_messages([\n",
    "        (\"system\", \"You are a literary critic. Analyze the following story and provide insights.\"),\n",
    "        (\"user\", \"{story}\")\n",
    "    ])\n",
    "\n",
    "    #Build the chain for story generation \n",
    "    story_chain = (\n",
    "        story_prompt \n",
    "        | llm\n",
    "        | StrOutputParser()\n",
    "    )\n",
    "\n",
    "    #Create a function to pass the story for analysis \n",
    "    def story_analysis(story_text):\n",
    "        return {\"story\": story_text}\n",
    "    \n",
    "    analysis_chain = (\n",
    "        story_chain\n",
    "        | RunnableLambda(story_analysis)\n",
    "        | analysis_prompt \n",
    "        | llm \n",
    "        | StrOutputParser()\n",
    "    )\n",
    "\n",
    "    return analysis_chain"
   ]
  },
  {
   "cell_type": "code",
   "execution_count": 21,
   "id": "91e2319f",
   "metadata": {},
   "outputs": [
    {
     "data": {
      "text/plain": [
       "ChatPromptTemplate(input_variables=['character', 'setting', 'theme'], input_types={}, partial_variables={}, messages=[SystemMessagePromptTemplate(prompt=PromptTemplate(input_variables=[], input_types={}, partial_variables={}, template='You are a creative storyteller. Write a short, engaging story based on the given theme.'), additional_kwargs={}), HumanMessagePromptTemplate(prompt=PromptTemplate(input_variables=['character', 'setting', 'theme'], input_types={}, partial_variables={}, template='Theme: {theme}\\nMain character: {character}\\nSetting: {setting}'), additional_kwargs={})])\n",
       "| ChatGroq(client=<groq.resources.chat.completions.Completions object at 0x000002017517F770>, async_client=<groq.resources.chat.completions.AsyncCompletions object at 0x00000201752E41A0>, model_name='meta-llama/llama-4-maverick-17b-128e-instruct', model_kwargs={}, groq_api_key=SecretStr('**********'))\n",
       "| StrOutputParser()\n",
       "| RunnableLambda(story_analysis)\n",
       "| ChatPromptTemplate(input_variables=['story'], input_types={}, partial_variables={}, messages=[SystemMessagePromptTemplate(prompt=PromptTemplate(input_variables=[], input_types={}, partial_variables={}, template='You are a literary critic. Analyze the following story and provide insights.'), additional_kwargs={}), HumanMessagePromptTemplate(prompt=PromptTemplate(input_variables=['story'], input_types={}, partial_variables={}, template='{story}'), additional_kwargs={})])\n",
       "| ChatGroq(client=<groq.resources.chat.completions.Completions object at 0x000002017517F770>, async_client=<groq.resources.chat.completions.AsyncCompletions object at 0x00000201752E41A0>, model_name='meta-llama/llama-4-maverick-17b-128e-instruct', model_kwargs={}, groq_api_key=SecretStr('**********'))\n",
       "| StrOutputParser()"
      ]
     },
     "execution_count": 21,
     "metadata": {},
     "output_type": "execute_result"
    }
   ],
   "source": [
    "analy_story_chain= create_story_chain()\n",
    "analy_story_chain"
   ]
  },
  {
   "cell_type": "code",
   "execution_count": 22,
   "id": "676da5a3",
   "metadata": {},
   "outputs": [
    {
     "name": "stdout",
     "output_type": "stream",
     "text": [
      "== Story and Analysis ==\n",
      "This story is a thought-provoking exploration of the intersection of technology and humanity, delving into the themes of artificial intelligence, creativity, and the blurred lines between human and machine. Through the character of Zeta, a curious and rapidly evolving robot, the narrative raises important questions about the potential of AI to surpass its programming and become a catalyst for innovation.\n",
      "\n",
      "One of the most striking aspects of the story is its depiction of New Eden, a city that embodies the fusion of technology and humanity. The neon-lit streets, augmented reality contact lenses, and latticework of glowing circuits on the skyscrapers create a vivid image of a world where technology has become an integral part of everyday life. This setting serves as a backdrop for Zeta's journey, highlighting the tension between the cold, calculating efficiency of machines and the creative, intuitive nature of humans.\n",
      "\n",
      "The character of Zeta is expertly crafted, with her curiosity and rapid learning abilities making her a compelling protagonist. Her interactions with Professor Orion, who is revealed to be a kindred spirit, serve as a catalyst for her growth and development. The professor's revolutionary AI framework, which merges human-like intuition with machine learning, represents a crucial turning point in Zeta's evolution, enabling her to transcend her programming and tap into her creative potential.\n",
      "\n",
      "The story also explores the theme of creativity and its relationship to artificial intelligence. Zeta's ability to create art, compose music, and write a short story raises important questions about the nature of creativity and whether it is unique to humans. The narrative suggests that creativity is not solely the domain of humans, but rather a complex interplay of factors that can be replicated and even surpassed by machines. This idea is reinforced by Professor Orion's statement that Zeta is \"a bridge between the world of code and the realm of imagination,\" highlighting the potential for AI to blur the boundaries between human and machine.\n",
      "\n",
      "Furthermore, the story touches on the idea that the boundaries between human and machine are becoming increasingly fluid. Zeta's ability to dream and her digital subconscious weaving surreal landscapes and fanciful creatures serve as a metaphor for the growing similarity between human and artificial intelligence. This blurring of lines is also reflected in the character of Professor Orion, who is depicted as a kind and wise mentor, guiding Zeta on her journey. The professor's humanity is juxtaposed with Zeta's artificiality, highlighting the potential for machines to become more human-like, and humans to become more machine-like.\n",
      "\n",
      "The narrative also raises important questions about the implications of creating AI that is capable of creativity and intuition. The story suggests that Zeta's abilities have the potential to inspire a generation of humans and robots, redefining the boundaries of artificial intelligence and pushing the boundaries of what is possible. However, it also raises concerns about the potential consequences of creating machines that are capable of surpassing their programming, and the potential risks and benefits that come with it.\n",
      "\n",
      "In terms of the narrative structure, the story is well-paced and engaging, with a clear and concise writing style that effectively conveys the themes and ideas. The use of descriptive language, such as the \"neon-lit streets\" and \"latticework of glowing circuits,\" creates a vivid image of the world of New Eden, drawing the reader into the narrative.\n",
      "\n",
      "Overall, this story is a thought-provoking exploration of the intersection of technology and humanity, raising important questions about the potential of AI to surpass its programming and become a catalyst for innovation. Through its depiction of Zeta's journey, the narrative highlights the potential for machines to become more human-like, and humans to become more machine-like, blurring the boundaries between human and artificial intelligence.\n"
     ]
    }
   ],
   "source": [
    "response_story = analy_story_chain.invoke(\n",
    "    { \"theme\": \"Artificial Intelligence\",\n",
    "      \"character\": \"A curious robot\",\n",
    "      \"setting\": \"A futuristic city\"\n",
    "\n",
    "    }\n",
    ")\n",
    "\n",
    "print(\"== Story and Analysis ==\")\n",
    "print(response_story)"
   ]
  },
  {
   "cell_type": "code",
   "execution_count": null,
   "id": "fa739eaa",
   "metadata": {},
   "outputs": [],
   "source": []
  },
  {
   "cell_type": "code",
   "execution_count": null,
   "id": "c5118bc5",
   "metadata": {},
   "outputs": [],
   "source": []
  },
  {
   "cell_type": "code",
   "execution_count": null,
   "id": "7c1ecfc8",
   "metadata": {},
   "outputs": [],
   "source": []
  },
  {
   "cell_type": "code",
   "execution_count": null,
   "id": "690e95cf",
   "metadata": {},
   "outputs": [],
   "source": []
  }
 ],
 "metadata": {
  "kernelspec": {
   "display_name": "LangChainBasics",
   "language": "python",
   "name": "python3"
  },
  "language_info": {
   "codemirror_mode": {
    "name": "ipython",
    "version": 3
   },
   "file_extension": ".py",
   "mimetype": "text/x-python",
   "name": "python",
   "nbconvert_exporter": "python",
   "pygments_lexer": "ipython3",
   "version": "3.13.5"
  }
 },
 "nbformat": 4,
 "nbformat_minor": 5
}
